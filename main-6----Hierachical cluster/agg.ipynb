{
 "cells": [
  {
   "cell_type": "code",
   "execution_count": 12,
   "id": "bb8dc015",
   "metadata": {},
   "outputs": [],
   "source": [
    "from sklearn.cluster import AgglomerativeClustering\n",
    "import matplotlib.pyplot as plt\n",
    "import numpy as np\n",
    "from scipy.cluster.hierarchy import linkage, dendrogram\n",
    "from sklearn.datasets import make_blobs"
   ]
  },
  {
   "cell_type": "code",
   "execution_count": 13,
   "id": "2a575ce1",
   "metadata": {},
   "outputs": [
    {
     "data": {
      "text/plain": [
       "array([[ -6.73359384,  -6.59058248],\n",
       "       [ -4.91268491, -10.67186064],\n",
       "       [ -1.76905015,  -3.96628404],\n",
       "       [  6.14436973,  -7.71911969],\n",
       "       [ -3.65301156,  -6.61570028],\n",
       "       [ -1.17192748,  -3.99100057],\n",
       "       [  6.47277493,  -7.80914025],\n",
       "       [ -5.38699146,  -9.8598787 ],\n",
       "       [ -4.66956112,  -9.44382451],\n",
       "       [ -6.71550299,  -8.75682183],\n",
       "       [  6.49647405,  -8.62937948],\n",
       "       [ -6.56556323,  -9.09536779],\n",
       "       [ -4.5462219 ,  -6.70523255],\n",
       "       [  7.43912233,  -8.74388975],\n",
       "       [ -4.86331268,  -8.36017424],\n",
       "       [  6.55683682,  -8.39226943],\n",
       "       [  7.40932999,  -8.25924722],\n",
       "       [  5.5332775 ,  -8.01002546],\n",
       "       [ -2.9198067 ,  -4.41546003],\n",
       "       [  6.69179626,  -8.20877866],\n",
       "       [ -1.60683015,  -5.24433584],\n",
       "       [  8.28044655, -10.90166512],\n",
       "       [ -5.53848183,  -9.15560926],\n",
       "       [ -5.72414379,  -8.73218184],\n",
       "       [ -1.07774124,  -3.75277582],\n",
       "       [ -1.57899166,  -5.0573971 ],\n",
       "       [  7.79012733,  -8.00867245],\n",
       "       [  6.61453243,  -8.09287681],\n",
       "       [ -3.64985785,  -5.28528186],\n",
       "       [  7.37987781, -10.47633206],\n",
       "       [  8.32525428,  -8.44532086],\n",
       "       [ -4.71453879,  -7.28046167],\n",
       "       [ -3.94151069,  -5.69768744],\n",
       "       [ -6.36991548,  -8.99460205],\n",
       "       [  6.05247749,  -7.9668592 ],\n",
       "       [ -4.84197504, -10.53444356],\n",
       "       [  8.68180726,  -9.41316291],\n",
       "       [ -2.84210945,  -5.00118802],\n",
       "       [ -4.65609778,  -9.10582035],\n",
       "       [ -2.31275225,  -4.88507789],\n",
       "       [  6.423853  ,  -7.59836767],\n",
       "       [  6.98664332, -10.317171  ],\n",
       "       [  7.0545764 ,  -8.95752599],\n",
       "       [ -6.50280149,  -9.0944026 ],\n",
       "       [ -3.37103549,  -4.3552385 ],\n",
       "       [ -2.27874334,  -6.71106936],\n",
       "       [ -6.03709368,  -8.0019044 ],\n",
       "       [  7.19727224,  -9.36492763],\n",
       "       [  7.16588626,  -6.61069136],\n",
       "       [ -2.05378326,  -5.3694857 ],\n",
       "       [  7.46183704,  -7.05164926],\n",
       "       [  6.26635084,  -9.08581123],\n",
       "       [ -3.56454081,  -5.55354643],\n",
       "       [ -3.36129035,  -5.17169089],\n",
       "       [  6.64749043,  -9.39708193],\n",
       "       [ -6.48487996,  -9.64530164],\n",
       "       [ -2.28306642,  -6.82916039],\n",
       "       [  8.41935601,  -7.7384097 ],\n",
       "       [  6.43795328,  -8.84669392],\n",
       "       [ -5.04777557,  -7.86801686],\n",
       "       [ -4.27185753,  -7.30979817],\n",
       "       [ -4.32204581,  -8.71195009],\n",
       "       [ -3.81747548,  -4.15218653],\n",
       "       [ -5.22413671, -10.95110705],\n",
       "       [  7.23028309,  -9.15844299],\n",
       "       [ -3.98756285,  -8.68445731],\n",
       "       [  7.28452851,  -8.18822327],\n",
       "       [ -0.53530023,  -4.30062895],\n",
       "       [  7.04753513,  -9.72511449],\n",
       "       [ -3.08889458,  -5.48627161],\n",
       "       [ -5.78566249,  -8.08360281],\n",
       "       [ -3.09517826,  -4.3015433 ],\n",
       "       [ -2.92552934,  -6.56178786],\n",
       "       [ -2.85191997,  -5.67363549],\n",
       "       [ -1.57500409,  -6.12324031],\n",
       "       [ -2.16370649,  -5.22863364],\n",
       "       [  4.6021213 ,  -9.46119387],\n",
       "       [ -5.04834251,  -8.62745668],\n",
       "       [  6.17754966,  -8.44594542],\n",
       "       [ -5.26145324, -10.77013784],\n",
       "       [ -4.81702473,  -8.44188456],\n",
       "       [  6.77886097,  -7.91596295],\n",
       "       [ -1.48500489,  -4.08331205],\n",
       "       [ -5.76442719,  -9.85480707],\n",
       "       [  7.27842927,  -7.3859552 ],\n",
       "       [ -5.42513192,  -7.47862739],\n",
       "       [ -2.38747466,  -4.99821486],\n",
       "       [ -6.4967363 ,  -8.76883446],\n",
       "       [ -7.05049766,  -9.48409303],\n",
       "       [ -1.8180525 ,  -5.72921371],\n",
       "       [ -3.59332664,  -4.47500247],\n",
       "       [ -2.73406948,  -5.23742653],\n",
       "       [ -2.18517601,  -4.38271815],\n",
       "       [ -2.68742174,  -5.47927312],\n",
       "       [ -4.55855255,  -7.28453176],\n",
       "       [  5.42030168,  -7.1692539 ],\n",
       "       [ -2.01376524,  -6.46829624],\n",
       "       [ -5.11631423,  -8.73033131],\n",
       "       [ -4.011894  ,  -7.01779916],\n",
       "       [ -2.42965118,  -4.24708382]])"
      ]
     },
     "execution_count": 13,
     "metadata": {},
     "output_type": "execute_result"
    }
   ],
   "source": [
    "x"
   ]
  },
  {
   "cell_type": "code",
   "execution_count": 14,
   "id": "8b5abebf",
   "metadata": {},
   "outputs": [],
   "source": [
    "x, _ = make_blobs(n_samples=100, centers=3, cluster_std=1.0 )"
   ]
  },
  {
   "cell_type": "code",
   "execution_count": 15,
   "id": "91c18ef5",
   "metadata": {},
   "outputs": [],
   "source": [
    "model = AgglomerativeClustering(n_clusters=3, linkage='ward')\n",
    "labels = model.fit_predict(x)"
   ]
  },
  {
   "cell_type": "code",
   "execution_count": 16,
   "id": "41fc597b",
   "metadata": {},
   "outputs": [
    {
     "data": {
      "image/png": "[encoded data removed]",
      "text/plain": [
       "<Figure size 1000x600 with 1 Axes>"
      ]
     },
     "metadata": {},
     "output_type": "display_data"
    }
   ],
   "source": [
    "linked = linkage(x, method='ward')\n",
    "plt.figure(figsize=(10, 6))\n",
    "dendrogram(linked)\n",
    "plt.xticks(rotation=90)\n",
    "plt.show()"
   ]
  },
  {
   "cell_type": "code",
   "execution_count": null,
   "id": "171ea508",
   "metadata": {},
   "outputs": [],
   "source": []
  }
 ],
 "metadata": {
  "kernelspec": {
   "display_name": "Python 3",
   "language": "python",
   "name": "python3"
  },
  "language_info": {
   "codemirror_mode": {
    "name": "ipython",
    "version": 3
   },
   "file_extension": ".py",
   "mimetype": "text/x-python",
   "name": "python",
   "nbconvert_exporter": "python",
   "pygments_lexer": "ipython3",
   "version": "3.11.9"
  }
 },
 "nbformat": 4,
 "nbformat_minor": 5
}
